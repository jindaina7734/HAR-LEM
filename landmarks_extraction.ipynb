{
  "cells": [
    {
      "cell_type": "code",
      "execution_count": 73,
      "metadata": {
        "id": "sdIjlKl7eWMr"
      },
      "outputs": [],
      "source": [
        "import os\n",
        "import glob\n",
        "\n",
        "def list_file_paths(directory):\n",
        "    file_paths = [f for f in glob.glob(directory + \"/**/*\", recursive=True) if os.path.isfile(f)]\n",
        "    return file_paths\n",
        "\n",
        "folder = 'walking_side' #change here\n",
        "\n",
        "directory_path = \"E:\\\\Download\\\\uav_actions\\\\Cropped\\\\\"+folder+\"\\\\\"\n",
        "file_paths = list_file_paths(directory_path)\n",
        "list_vid = []"
      ]
    },
    {
      "cell_type": "code",
      "execution_count": 74,
      "metadata": {},
      "outputs": [],
      "source": [
        "for path in file_paths:\n",
        "    if 'mp4' in path:\n",
        "        tmp = path.split('\\\\')\n",
        "        # print(tmp)\n",
        "        list_vid.append(\"\\\\\"+tmp[5])"
      ]
    },
    {
      "cell_type": "code",
      "execution_count": null,
      "metadata": {},
      "outputs": [],
      "source": [
        "list_vid"
      ]
    },
    {
      "cell_type": "code",
      "execution_count": null,
      "metadata": {
        "colab": {
          "base_uri": "https://localhost:8080/",
          "height": 211
        },
        "collapsed": true,
        "id": "AFTWl8N0iBT2",
        "outputId": "f2255184-80ce-453c-c484-165c371112a4"
      },
      "outputs": [],
      "source": [
        "import cv2\n",
        "import mediapipe as mp\n",
        "import numpy as np\n",
        "\n",
        "# Initialize MediaPipe Pose.\n",
        "mp_pose = mp.solutions.pose\n",
        "pose = mp_pose.Pose(static_image_mode=False, min_detection_confidence=0.5, min_tracking_confidence=0.5)\n",
        "\n",
        "# Initialize video capture and output.\n",
        "input_video_path = directory_path + list_vid[0]\n",
        "print(input_video_path)\n",
        "output_video_path = 'E:\\\\Download\\\\uav_actions\\\\Cropped\\\\'+folder+\".mp4\"\n",
        "cap = cv2.VideoCapture(input_video_path)\n",
        "\n",
        "# Get video properties.\n",
        "frame_width = int(cap.get(cv2.CAP_PROP_FRAME_WIDTH))\n",
        "frame_height = int(cap.get(cv2.CAP_PROP_FRAME_HEIGHT))\n",
        "fps = int(cap.get(cv2.CAP_PROP_FPS))\n",
        "\n",
        "# Define the codec and create VideoWriter object.\n",
        "out = cv2.VideoWriter(output_video_path, cv2.VideoWriter_fourcc(*'mp4v'), fps, (frame_width, frame_height))\n",
        "\n",
        "# Function to calculate the angle between three points.\n",
        "def calculate_angle(a, b, c):\n",
        "    a = np.array(a)  # First point\n",
        "    b = np.array(b)  # Mid point\n",
        "    c = np.array(c)  # End point\n",
        "\n",
        "    radians = np.abs(np.arctan2(c[1] - b[1], c[0] - b[0]) - np.arctan2(a[1] - b[1], a[0] - b[0]))\n",
        "\n",
        "    if radians > np.pi:\n",
        "        radians = 2*np.pi - radians\n",
        "\n",
        "    return radians"
      ]
    },
    {
      "cell_type": "code",
      "execution_count": 77,
      "metadata": {
        "id": "8DOK8NV5kigg"
      },
      "outputs": [],
      "source": [
        "from tqdm import tqdm\n",
        "\n",
        "def get_angle_seq(list_vid, path, tar):\n",
        "    mp_pose = mp.solutions.pose\n",
        "    pose = mp_pose.Pose(static_image_mode=False, min_detection_confidence=0.5, min_tracking_confidence=0.5)\n",
        "    total_step = len(list_vid)\n",
        "    pbar = tqdm(total=total_step)\n",
        "\n",
        "    for path in list_vid:\n",
        "        # os.makedirs(tar + path.split('.')[0], exist_ok=True)\n",
        "        \n",
        "        source = directory_path + path\n",
        "        print(source)\n",
        "        target = tar + path.split('.')[0] + '.txt'\n",
        "        cap = cv2.VideoCapture(source)\n",
        "        frame_width = int(cap.get(cv2.CAP_PROP_FRAME_WIDTH))\n",
        "        frame_height = int(cap.get(cv2.CAP_PROP_FRAME_HEIGHT))\n",
        "\n",
        "        angles_list = []\n",
        "\n",
        "        while cap.isOpened():\n",
        "            ret, frame = cap.read()\n",
        "            if not ret:\n",
        "                break\n",
        "\n",
        "            image_rgb = cv2.cvtColor(frame, cv2.COLOR_BGR2RGB)\n",
        "            try:\n",
        "                results = pose.process(image_rgb)\n",
        "            except:\n",
        "                print(path)\n",
        "                continue\n",
        "\n",
        "            frame_angles = []\n",
        "            cv2.imshow('frame', frame)\n",
        "            if results.pose_landmarks:\n",
        "                landmarks = results.pose_landmarks.landmark\n",
        "\n",
        "                # List of points for angle calculation.\n",
        "                points = [\n",
        "                    # Upper body\n",
        "                    (11, 13, 15),  # Left Shoulder-Elbow-Wrist\n",
        "                    (12, 14, 16),  # Right Shoulder-Elbow-Wrist\n",
        "                    (12, 11, 13),\n",
        "                    (11, 12, 14),\n",
        "                    (13, 11, 23),\n",
        "                    (14, 12, 24),\n",
        "                    (24, 23, 25),\n",
        "                    (23, 24, 26),\n",
        "                    # Torso and lower body\n",
        "                    (23, 25, 27),  # Left Hip-Knee-Ankle\n",
        "                    (24, 26, 28),  # Right Hip-Knee-Ankle\n",
        "                    (11, 23, 25),  # Left Shoulder-Hip-Knee\n",
        "                    (12, 24, 26),  # Right Shoulder-Hip-Knee\n",
        "                    (23, 25, 27),  # Left Hip-Knee-Foot Index\n",
        "                    (24, 26, 28),  # Right Hip-Knee-Foot Index\n",
        "                ]\n",
        "\n",
        "                for (a_idx, b_idx, c_idx) in points:\n",
        "                    a = [landmarks[a_idx].x * frame_width, landmarks[a_idx].y * frame_height]\n",
        "                    b = [landmarks[b_idx].x * frame_width, landmarks[b_idx].y * frame_height]\n",
        "                    c = [landmarks[c_idx].x * frame_width, landmarks[c_idx].y * frame_height]\n",
        "\n",
        "                    cv2.line(frame, (int(a[0]), int(a[1])), (int(b[0]), int(b[1])), (0, 255, 0), 2)\n",
        "                    cv2.line(frame, (int(b[0]), int(b[1])), (int(c[0]), int(c[1])), (0, 255, 0), 2)\n",
        "\n",
        "                    angle = calculate_angle(a, b, c)\n",
        "\n",
        "                    # Draw landmarks and angles on the frame.\n",
        "                    # cv2.circle(frame, (int(b[0]), int(b[1])), 5, (0, 255, 0), -1)\n",
        "                    # cv2.putText(frame, f'{int(angle)}', (int(b[0]), int(b[1] - 20)), cv2.FONT_HERSHEY_SIMPLEX, 0.5, (255, 0, 0), 2, cv2.LINE_AA)\n",
        "                    frame_angles.append(angle)\n",
        "                    # print(angle)\n",
        "\n",
        "            # Write the frame with the angle.\n",
        "            angles_list.append(frame_angles)\n",
        "\n",
        "            # cv2_imshow(frame)\n",
        "\n",
        "        # Release resources.\n",
        "        cap.release()\n",
        "        # pose.close()\n",
        "        cv2.destroyAllWindows()\n",
        "\n",
        "\n",
        "        with open(target, 'w') as file:\n",
        "            for frame_angles in angles_list:\n",
        "                file.write(','.join(map(str, frame_angles)) + '\\n')\n",
        "        pbar.update(1)\n",
        "        # break\n",
        "    pbar.close()"
      ]
    },
    {
      "cell_type": "code",
      "execution_count": null,
      "metadata": {},
      "outputs": [],
      "source": [
        "list_vid"
      ]
    },
    {
      "cell_type": "code",
      "execution_count": null,
      "metadata": {
        "colab": {
          "base_uri": "https://localhost:8080/",
          "height": 280
        },
        "id": "qmqPACY6Z9mt",
        "outputId": "6247eae1-74f4-4d10-98ac-30fe1b4cfd41"
      },
      "outputs": [],
      "source": [
        "get_angle_seq(list_vid, 'E:\\\\Download\\\\uav_actions\\\\Cropped\\\\'+folder+'\\\\', 'E:\\\\Download\\\\uav_actions\\\\Extracted\\\\'+folder+'\\\\')"
      ]
    },
    {
      "cell_type": "code",
      "execution_count": null,
      "metadata": {
        "id": "7Olbyox71g1X"
      },
      "outputs": [],
      "source": []
    },
    {
      "cell_type": "code",
      "execution_count": null,
      "metadata": {},
      "outputs": [],
      "source": []
    }
  ],
  "metadata": {
    "colab": {
      "provenance": []
    },
    "kernelspec": {
      "display_name": "Python 3",
      "name": "python3"
    },
    "language_info": {
      "codemirror_mode": {
        "name": "ipython",
        "version": 3
      },
      "file_extension": ".py",
      "mimetype": "text/x-python",
      "name": "python",
      "nbconvert_exporter": "python",
      "pygments_lexer": "ipython3",
      "version": "3.9.5"
    }
  },
  "nbformat": 4,
  "nbformat_minor": 0
}
